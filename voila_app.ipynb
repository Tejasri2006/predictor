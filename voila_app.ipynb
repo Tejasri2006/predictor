{
 "cells": [
  {
   "cell_type": "code",
   "execution_count": 1,
   "id": "21b2a916-f087-4cc5-9a1a-01b022005bea",
   "metadata": {},
   "outputs": [
    {
     "name": "stderr",
     "output_type": "stream",
     "text": [
      "/home/ec2-user/anaconda3/envs/python3/lib/python3.10/site-packages/pandas/core/computation/expressions.py:21: UserWarning: Pandas requires version '2.8.4' or newer of 'numexpr' (version '2.7.3' currently installed).\n",
      "  from pandas.core.computation.check import NUMEXPR_INSTALLED\n"
     ]
    },
    {
     "data": {
      "application/vnd.jupyter.widget-view+json": {
       "model_id": "219dcbdfe1f74ce3853151f578fc4fc6",
       "version_major": 2,
       "version_minor": 0
      },
      "text/plain": [
       "VBox(children=(HTML(value='<h2>Insurance Charges Prediction (Voilá)</h2>'), HBox(children=(IntSlider(value=30,…"
      ]
     },
     "metadata": {},
     "output_type": "display_data"
    }
   ],
   "source": [
    "import joblib\n",
    "import pandas as pd\n",
    "from ipywidgets import (\n",
    "    VBox, HBox, IntSlider, FloatSlider, Dropdown, Button, HTML, Layout\n",
    ")\n",
    "from IPython.display import display\n",
    "\n",
    "# ---- Load model (path from your earlier message) ----\n",
    "MODEL_PATH = \"model_extracted/rf_insurance_model.joblib\"\n",
    "model = joblib.load(MODEL_PATH)\n",
    "\n",
    "# ---- Widgets ----\n",
    "age = IntSlider(description=\"Age\", min=18, max=100, value=30, continuous_update=False)\n",
    "bmi = FloatSlider(description=\"BMI\", min=10.0, max=60.0, step=0.1, value=25.0, readout_format=\".1f\", continuous_update=False)\n",
    "children = IntSlider(description=\"Children\", min=0, max=10, value=0, continuous_update=False)\n",
    "\n",
    "sex = Dropdown(description=\"Sex\", options=[\"male\", \"female\"], value=\"male\")\n",
    "smoker = Dropdown(description=\"Smoker\", options=[\"yes\", \"no\"], value=\"no\")\n",
    "region = Dropdown(description=\"Region\", options=[\"southwest\", \"southeast\", \"northwest\", \"northeast\"], value=\"southwest\")\n",
    "\n",
    "predict_btn = Button(description=\"Predict Charges 💵\", button_style=\"primary\", layout=Layout(width=\"200px\", height=\"40px\"))\n",
    "output_html = HTML(value=\"<i>Fill inputs and click Predict.</i>\")\n",
    "\n",
    "# ---- Predict handler ----\n",
    "def on_predict_clicked(_):\n",
    "    # If your joblib is a full sklearn Pipeline (with OneHotEncoder/ColumnTransformer),\n",
    "    # it’s safest to pass a DataFrame with original column names & raw category strings.\n",
    "    X = pd.DataFrame([{\n",
    "        \"age\": age.value,\n",
    "        \"sex\": sex.value,\n",
    "        \"bmi\": bmi.value,\n",
    "        \"children\": children.value,\n",
    "        \"smoker\": smoker.value,\n",
    "        \"region\": region.value\n",
    "    }])\n",
    "    try:\n",
    "        pred = model.predict(X)[0]\n",
    "        output_html.value = f\"<h3>Estimated Insurance Charges: ${pred:,.2f}</h3>\"\n",
    "    except Exception as e:\n",
    "        output_html.value = f\"<pre style='color:red'>Prediction error:\\n{e}</pre>\"\n",
    "\n",
    "predict_btn.on_click(on_predict_clicked)\n",
    "\n",
    "# ---- Layout ----\n",
    "ui = VBox([\n",
    "    HTML(\"<h2>Insurance Charges Prediction (Voilá)</h2>\"),\n",
    "    HBox([age, bmi]),\n",
    "    HBox([children, sex]),\n",
    "    HBox([smoker, region]),\n",
    "    predict_btn,\n",
    "    HTML(\"<hr>\"),\n",
    "    output_html\n",
    "])\n",
    "\n",
    "display(ui)\n"
   ]
  },
  {
   "cell_type": "code",
   "execution_count": null,
   "id": "a35d8580-855b-459f-9f2b-e6bd8e660e3d",
   "metadata": {},
   "outputs": [],
   "source": []
  }
 ],
 "metadata": {
  "kernelspec": {
   "display_name": "conda_python3",
   "language": "python",
   "name": "conda_python3"
  },
  "language_info": {
   "codemirror_mode": {
    "name": "ipython",
    "version": 3
   },
   "file_extension": ".py",
   "mimetype": "text/x-python",
   "name": "python",
   "nbconvert_exporter": "python",
   "pygments_lexer": "ipython3",
   "version": "3.10.18"
  }
 },
 "nbformat": 4,
 "nbformat_minor": 5
}
